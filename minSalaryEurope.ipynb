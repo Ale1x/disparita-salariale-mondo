{
 "cells": [
  {
   "cell_type": "code",
   "execution_count": 16,
   "metadata": {},
   "outputs": [],
   "source": [
    "import altair as alt\n",
    "import pandas as pd"
   ]
  },
  {
   "cell_type": "code",
   "execution_count": 18,
   "metadata": {},
   "outputs": [],
   "source": [
    "df = pd.read_csv('data/europeMinSalary.csv')\n",
    "\n",
    "# Converti 'TIME_PERIOD' in tipo stringa\n",
    "df['TIME_PERIOD'] = df['TIME_PERIOD'].astype(str)\n",
    "\n",
    "# Aggrega i dati per ottenere la media degli 'OBS_VALUE' per ogni combinazione di 'geo' e 'TIME_PERIOD'\n",
    "df_agg = df.groupby(['geo', 'TIME_PERIOD']).agg({'OBS_VALUE': 'mean'}).reset_index()\n",
    "\n",
    "# Trova il massimo valore in 'OBS_VALUE'\n",
    "max_obs_value = df_agg['OBS_VALUE'].max()"
   ]
  },
  {
   "cell_type": "code",
   "execution_count": 20,
   "metadata": {},
   "outputs": [
    {
     "data": {
      "text/html": [
       "\n",
       "<style>\n",
       "  #altair-viz-e2dc49a971b5457a805e9714e1e64906.vega-embed {\n",
       "    width: 100%;\n",
       "    display: flex;\n",
       "  }\n",
       "\n",
       "  #altair-viz-e2dc49a971b5457a805e9714e1e64906.vega-embed details,\n",
       "  #altair-viz-e2dc49a971b5457a805e9714e1e64906.vega-embed details summary {\n",
       "    position: relative;\n",
       "  }\n",
       "</style>\n",
       "<div id=\"altair-viz-e2dc49a971b5457a805e9714e1e64906\"></div>\n",
       "<script type=\"text/javascript\">\n",
       "  var VEGA_DEBUG = (typeof VEGA_DEBUG == \"undefined\") ? {} : VEGA_DEBUG;\n",
       "  (function(spec, embedOpt){\n",
       "    let outputDiv = document.currentScript.previousElementSibling;\n",
       "    if (outputDiv.id !== \"altair-viz-e2dc49a971b5457a805e9714e1e64906\") {\n",
       "      outputDiv = document.getElementById(\"altair-viz-e2dc49a971b5457a805e9714e1e64906\");\n",
       "    }\n",
       "    const paths = {\n",
       "      \"vega\": \"https://cdn.jsdelivr.net/npm/vega@5?noext\",\n",
       "      \"vega-lib\": \"https://cdn.jsdelivr.net/npm/vega-lib?noext\",\n",
       "      \"vega-lite\": \"https://cdn.jsdelivr.net/npm/vega-lite@5.16.3?noext\",\n",
       "      \"vega-embed\": \"https://cdn.jsdelivr.net/npm/vega-embed@6?noext\",\n",
       "    };\n",
       "\n",
       "    function maybeLoadScript(lib, version) {\n",
       "      var key = `${lib.replace(\"-\", \"\")}_version`;\n",
       "      return (VEGA_DEBUG[key] == version) ?\n",
       "        Promise.resolve(paths[lib]) :\n",
       "        new Promise(function(resolve, reject) {\n",
       "          var s = document.createElement('script');\n",
       "          document.getElementsByTagName(\"head\")[0].appendChild(s);\n",
       "          s.async = true;\n",
       "          s.onload = () => {\n",
       "            VEGA_DEBUG[key] = version;\n",
       "            return resolve(paths[lib]);\n",
       "          };\n",
       "          s.onerror = () => reject(`Error loading script: ${paths[lib]}`);\n",
       "          s.src = paths[lib];\n",
       "        });\n",
       "    }\n",
       "\n",
       "    function showError(err) {\n",
       "      outputDiv.innerHTML = `<div class=\"error\" style=\"color:red;\">${err}</div>`;\n",
       "      throw err;\n",
       "    }\n",
       "\n",
       "    function displayChart(vegaEmbed) {\n",
       "      vegaEmbed(outputDiv, spec, embedOpt)\n",
       "        .catch(err => showError(`Javascript Error: ${err.message}<br>This usually means there's a typo in your chart specification. See the javascript console for the full traceback.`));\n",
       "    }\n",
       "\n",
       "    if(typeof define === \"function\" && define.amd) {\n",
       "      requirejs.config({paths});\n",
       "      require([\"vega-embed\"], displayChart, err => showError(`Error loading script: ${err.message}`));\n",
       "    } else {\n",
       "      maybeLoadScript(\"vega\", \"5\")\n",
       "        .then(() => maybeLoadScript(\"vega-lite\", \"5.16.3\"))\n",
       "        .then(() => maybeLoadScript(\"vega-embed\", \"6\"))\n",
       "        .catch(showError)\n",
       "        .then(() => displayChart(vegaEmbed));\n",
       "    }\n",
       "  })({\"config\": {\"view\": {\"continuousWidth\": 300, \"continuousHeight\": 300}, \"title\": {\"anchor\": \"start\", \"color\": \"black\", \"dy\": -15, \"font\": \"Helvetica\", \"fontSize\": 20, \"fontWeight\": \"lighter\"}}, \"data\": {\"name\": \"data-81174675dab02359bfc05d044dbfe827\"}, \"mark\": {\"type\": \"bar\"}, \"encoding\": {\"tooltip\": [{\"field\": \"geo\", \"type\": \"nominal\"}, {\"field\": \"TIME_PERIOD\", \"type\": \"nominal\"}, {\"field\": \"OBS_VALUE\", \"type\": \"quantitative\"}], \"x\": {\"field\": \"OBS_VALUE\", \"scale\": {\"domain\": [0, 70.4]}, \"title\": \"Guadagno/giornata\", \"type\": \"quantitative\"}, \"y\": {\"field\": \"geo\", \"title\": \"Nazione\", \"type\": \"nominal\"}}, \"height\": 500, \"title\": {\"text\": [\"Guadagno in diverse nazioni\"], \"subtitle\": \"Guadagno giornaliero medio per nazione\", \"color\": \"black\", \"subtitleColor\": \"black\"}, \"width\": 500, \"$schema\": \"https://vega.github.io/schema/vega-lite/v5.16.3.json\", \"datasets\": {\"data-81174675dab02359bfc05d044dbfe827\": [{\"geo\": \"AT\", \"TIME_PERIOD\": \"2010\", \"OBS_VALUE\": 46.7}, {\"geo\": \"AT\", \"TIME_PERIOD\": \"2014\", \"OBS_VALUE\": 44.9}, {\"geo\": \"AT\", \"TIME_PERIOD\": \"2018\", \"OBS_VALUE\": 44.2}, {\"geo\": \"BE\", \"TIME_PERIOD\": \"2010\", \"OBS_VALUE\": 35.9}, {\"geo\": \"BE\", \"TIME_PERIOD\": \"2014\", \"OBS_VALUE\": 31.1}, {\"geo\": \"BE\", \"TIME_PERIOD\": \"2018\", \"OBS_VALUE\": 26.4}, {\"geo\": \"BG\", \"TIME_PERIOD\": \"2010\", \"OBS_VALUE\": 23.9}, {\"geo\": \"BG\", \"TIME_PERIOD\": \"2014\", \"OBS_VALUE\": 22.9}, {\"geo\": \"BG\", \"TIME_PERIOD\": \"2018\", \"OBS_VALUE\": 24.2}, {\"geo\": \"CH\", \"TIME_PERIOD\": \"2010\", \"OBS_VALUE\": 45.7}, {\"geo\": \"CH\", \"TIME_PERIOD\": \"2014\", \"OBS_VALUE\": 44.5}, {\"geo\": \"CH\", \"TIME_PERIOD\": \"2018\", \"OBS_VALUE\": 43.1}, {\"geo\": \"CY\", \"TIME_PERIOD\": \"2010\", \"OBS_VALUE\": 33.7}, {\"geo\": \"CY\", \"TIME_PERIOD\": \"2014\", \"OBS_VALUE\": 26.9}, {\"geo\": \"CY\", \"TIME_PERIOD\": \"2018\", \"OBS_VALUE\": 25.2}, {\"geo\": \"CZ\", \"TIME_PERIOD\": \"2010\", \"OBS_VALUE\": 41.0}, {\"geo\": \"CZ\", \"TIME_PERIOD\": \"2014\", \"OBS_VALUE\": 40.4}, {\"geo\": \"CZ\", \"TIME_PERIOD\": \"2018\", \"OBS_VALUE\": 36.0}, {\"geo\": \"DE\", \"TIME_PERIOD\": \"2010\", \"OBS_VALUE\": 45.4}, {\"geo\": \"DE\", \"TIME_PERIOD\": \"2014\", \"OBS_VALUE\": 45.2}, {\"geo\": \"DE\", \"TIME_PERIOD\": \"2018\", \"OBS_VALUE\": 41.9}, {\"geo\": \"DK\", \"TIME_PERIOD\": \"2010\", \"OBS_VALUE\": 25.7}, {\"geo\": \"DK\", \"TIME_PERIOD\": \"2014\", \"OBS_VALUE\": 26.4}, {\"geo\": \"DK\", \"TIME_PERIOD\": \"2018\", \"OBS_VALUE\": 25.1}, {\"geo\": \"EE\", \"TIME_PERIOD\": \"2010\", \"OBS_VALUE\": 30.9}, {\"geo\": \"EE\", \"TIME_PERIOD\": \"2014\", \"OBS_VALUE\": 37.2}, {\"geo\": \"EE\", \"TIME_PERIOD\": \"2018\", \"OBS_VALUE\": 31.1}, {\"geo\": \"EL\", \"TIME_PERIOD\": \"2010\", \"OBS_VALUE\": 45.9}, {\"geo\": \"EL\", \"TIME_PERIOD\": \"2014\", \"OBS_VALUE\": 42.0}, {\"geo\": \"EL\", \"TIME_PERIOD\": \"2018\", \"OBS_VALUE\": 41.3}, {\"geo\": \"ES\", \"TIME_PERIOD\": \"2010\", \"OBS_VALUE\": 38.0}, {\"geo\": \"ES\", \"TIME_PERIOD\": \"2014\", \"OBS_VALUE\": 35.7}, {\"geo\": \"ES\", \"TIME_PERIOD\": \"2018\", \"OBS_VALUE\": 33.0}, {\"geo\": \"EU27_2020\", \"TIME_PERIOD\": \"2010\", \"OBS_VALUE\": 32.9}, {\"geo\": \"EU27_2020\", \"TIME_PERIOD\": \"2014\", \"OBS_VALUE\": 31.1}, {\"geo\": \"EU27_2020\", \"TIME_PERIOD\": \"2018\", \"OBS_VALUE\": 36.2}, {\"geo\": \"FI\", \"TIME_PERIOD\": \"2010\", \"OBS_VALUE\": 27.1}, {\"geo\": \"FI\", \"TIME_PERIOD\": \"2014\", \"OBS_VALUE\": 24.3}, {\"geo\": \"FI\", \"TIME_PERIOD\": \"2018\", \"OBS_VALUE\": 24.5}, {\"geo\": \"FR\", \"TIME_PERIOD\": \"2006\", \"OBS_VALUE\": 33.7}, {\"geo\": \"FR\", \"TIME_PERIOD\": \"2010\", \"OBS_VALUE\": 31.7}, {\"geo\": \"FR\", \"TIME_PERIOD\": \"2014\", \"OBS_VALUE\": 29.6}, {\"geo\": \"FR\", \"TIME_PERIOD\": \"2018\", \"OBS_VALUE\": 29.6}, {\"geo\": \"HR\", \"TIME_PERIOD\": \"2010\", \"OBS_VALUE\": 23.0}, {\"geo\": \"HR\", \"TIME_PERIOD\": \"2014\", \"OBS_VALUE\": 24.4}, {\"geo\": \"HR\", \"TIME_PERIOD\": \"2018\", \"OBS_VALUE\": 25.5}, {\"geo\": \"HU\", \"TIME_PERIOD\": \"2010\", \"OBS_VALUE\": 27.2}, {\"geo\": \"HU\", \"TIME_PERIOD\": \"2014\", \"OBS_VALUE\": 27.7}, {\"geo\": \"HU\", \"TIME_PERIOD\": \"2018\", \"OBS_VALUE\": 28.1}, {\"geo\": \"IE\", \"TIME_PERIOD\": \"2010\", \"OBS_VALUE\": 34.8}, {\"geo\": \"IE\", \"TIME_PERIOD\": \"2014\", \"OBS_VALUE\": 36.8}, {\"geo\": \"IE\", \"TIME_PERIOD\": \"2018\", \"OBS_VALUE\": 35.9}, {\"geo\": \"IS\", \"TIME_PERIOD\": \"2010\", \"OBS_VALUE\": 32.8}, {\"geo\": \"IS\", \"TIME_PERIOD\": \"2014\", \"OBS_VALUE\": 34.0}, {\"geo\": \"IS\", \"TIME_PERIOD\": \"2018\", \"OBS_VALUE\": 31.2}, {\"geo\": \"IT\", \"TIME_PERIOD\": \"2010\", \"OBS_VALUE\": 44.0}, {\"geo\": \"IT\", \"TIME_PERIOD\": \"2014\", \"OBS_VALUE\": 43.2}, {\"geo\": \"IT\", \"TIME_PERIOD\": \"2018\", \"OBS_VALUE\": 43.0}, {\"geo\": \"LT\", \"TIME_PERIOD\": \"2010\", \"OBS_VALUE\": 12.3}, {\"geo\": \"LT\", \"TIME_PERIOD\": \"2014\", \"OBS_VALUE\": 19.2}, {\"geo\": \"LT\", \"TIME_PERIOD\": \"2018\", \"OBS_VALUE\": 20.4}, {\"geo\": \"LU\", \"TIME_PERIOD\": \"2010\", \"OBS_VALUE\": 38.4}, {\"geo\": \"LU\", \"TIME_PERIOD\": \"2014\", \"OBS_VALUE\": 32.5}, {\"geo\": \"LU\", \"TIME_PERIOD\": \"2018\", \"OBS_VALUE\": 23.2}, {\"geo\": \"LV\", \"TIME_PERIOD\": \"2010\", \"OBS_VALUE\": 16.0}, {\"geo\": \"LV\", \"TIME_PERIOD\": \"2014\", \"OBS_VALUE\": 22.7}, {\"geo\": \"LV\", \"TIME_PERIOD\": \"2018\", \"OBS_VALUE\": 25.7}, {\"geo\": \"ME\", \"TIME_PERIOD\": \"2014\", \"OBS_VALUE\": 26.0}, {\"geo\": \"MK\", \"TIME_PERIOD\": \"2010\", \"OBS_VALUE\": 39.5}, {\"geo\": \"MK\", \"TIME_PERIOD\": \"2014\", \"OBS_VALUE\": 39.6}, {\"geo\": \"MT\", \"TIME_PERIOD\": \"2010\", \"OBS_VALUE\": 56.3}, {\"geo\": \"MT\", \"TIME_PERIOD\": \"2014\", \"OBS_VALUE\": 43.9}, {\"geo\": \"MT\", \"TIME_PERIOD\": \"2018\", \"OBS_VALUE\": 39.4}, {\"geo\": \"NL\", \"TIME_PERIOD\": \"2010\", \"OBS_VALUE\": 48.9}, {\"geo\": \"NL\", \"TIME_PERIOD\": \"2014\", \"OBS_VALUE\": 32.7}, {\"geo\": \"NL\", \"TIME_PERIOD\": \"2018\", \"OBS_VALUE\": 43.7}, {\"geo\": \"NO\", \"TIME_PERIOD\": \"2010\", \"OBS_VALUE\": 32.9}, {\"geo\": \"NO\", \"TIME_PERIOD\": \"2014\", \"OBS_VALUE\": 30.8}, {\"geo\": \"NO\", \"TIME_PERIOD\": \"2018\", \"OBS_VALUE\": 27.6}, {\"geo\": \"PL\", \"TIME_PERIOD\": \"2010\", \"OBS_VALUE\": 29.1}, {\"geo\": \"PL\", \"TIME_PERIOD\": \"2014\", \"OBS_VALUE\": 31.2}, {\"geo\": \"PL\", \"TIME_PERIOD\": \"2018\", \"OBS_VALUE\": 30.3}, {\"geo\": \"PT\", \"TIME_PERIOD\": \"2010\", \"OBS_VALUE\": 28.4}, {\"geo\": \"PT\", \"TIME_PERIOD\": \"2014\", \"OBS_VALUE\": 25.8}, {\"geo\": \"PT\", \"TIME_PERIOD\": \"2018\", \"OBS_VALUE\": 20.4}, {\"geo\": \"RO\", \"TIME_PERIOD\": \"2010\", \"OBS_VALUE\": 33.6}, {\"geo\": \"RO\", \"TIME_PERIOD\": \"2014\", \"OBS_VALUE\": 30.4}, {\"geo\": \"RO\", \"TIME_PERIOD\": \"2018\", \"OBS_VALUE\": 27.3}, {\"geo\": \"RS\", \"TIME_PERIOD\": \"2014\", \"OBS_VALUE\": 33.1}, {\"geo\": \"RS\", \"TIME_PERIOD\": \"2018\", \"OBS_VALUE\": 30.2}, {\"geo\": \"SE\", \"TIME_PERIOD\": \"2010\", \"OBS_VALUE\": 30.6}, {\"geo\": \"SE\", \"TIME_PERIOD\": \"2014\", \"OBS_VALUE\": 26.5}, {\"geo\": \"SE\", \"TIME_PERIOD\": \"2018\", \"OBS_VALUE\": 23.8}, {\"geo\": \"SI\", \"TIME_PERIOD\": \"2010\", \"OBS_VALUE\": 12.5}, {\"geo\": \"SI\", \"TIME_PERIOD\": \"2014\", \"OBS_VALUE\": 19.6}, {\"geo\": \"SI\", \"TIME_PERIOD\": \"2018\", \"OBS_VALUE\": 20.7}, {\"geo\": \"SK\", \"TIME_PERIOD\": \"2010\", \"OBS_VALUE\": 32.8}, {\"geo\": \"SK\", \"TIME_PERIOD\": \"2014\", \"OBS_VALUE\": 32.6}, {\"geo\": \"SK\", \"TIME_PERIOD\": \"2018\", \"OBS_VALUE\": 30.6}, {\"geo\": \"TR\", \"TIME_PERIOD\": \"2010\", \"OBS_VALUE\": 60.4}, {\"geo\": \"TR\", \"TIME_PERIOD\": \"2014\", \"OBS_VALUE\": 57.9}]}}, {\"mode\": \"vega-lite\"});\n",
       "</script>"
      ],
      "text/plain": [
       "alt.Chart(...)"
      ]
     },
     "execution_count": 20,
     "metadata": {},
     "output_type": "execute_result"
    }
   ],
   "source": [
    "chart = alt.Chart(df_agg).mark_bar().encode(\n",
    "    x=alt.X('OBS_VALUE:Q', title='Guadagno/giornata', scale=alt.Scale(domain=(0, max_obs_value + 10))),\n",
    "    y=alt.Y('geo:N', title='Nazione'),\n",
    "    tooltip=['geo:N', 'TIME_PERIOD:N', 'OBS_VALUE:Q']\n",
    ").properties(\n",
    "    title={\n",
    "        \"text\": [\"Guadagno in diverse nazioni\"],\n",
    "        \"subtitle\": 'Guadagno giornaliero medio per nazione',\n",
    "        \"color\": \"black\",\n",
    "        \"subtitleColor\": \"black\"\n",
    "    },\n",
    "    width=500,\n",
    "    height=500\n",
    ").configure_title(\n",
    "    fontSize=20,\n",
    "    font='Helvetica',\n",
    "    fontWeight='lighter',\n",
    "    anchor='start',\n",
    "    color='black',\n",
    "    dy=-15\n",
    ")\n",
    "\n",
    "# Visualizza il grafico\n",
    "chart"
   ]
  }
 ],
 "metadata": {
  "kernelspec": {
   "display_name": "Python 3",
   "language": "python",
   "name": "python3"
  },
  "language_info": {
   "codemirror_mode": {
    "name": "ipython",
    "version": 3
   },
   "file_extension": ".py",
   "mimetype": "text/x-python",
   "name": "python",
   "nbconvert_exporter": "python",
   "pygments_lexer": "ipython3",
   "version": "3.12.1"
  }
 },
 "nbformat": 4,
 "nbformat_minor": 2
}
