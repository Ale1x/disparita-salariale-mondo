{
 "cells": [
  {
   "cell_type": "code",
   "execution_count": 1,
   "metadata": {},
   "outputs": [],
   "source": [
    "import pandas as pd\n",
    "import altair as alt"
   ]
  },
  {
   "cell_type": "code",
   "execution_count": 3,
   "metadata": {},
   "outputs": [
    {
     "data": {
      "text/html": [
       "\n",
       "<style>\n",
       "  #altair-viz-90fdf9aa27c144fe9414036e1d2b8d00.vega-embed {\n",
       "    width: 100%;\n",
       "    display: flex;\n",
       "  }\n",
       "\n",
       "  #altair-viz-90fdf9aa27c144fe9414036e1d2b8d00.vega-embed details,\n",
       "  #altair-viz-90fdf9aa27c144fe9414036e1d2b8d00.vega-embed details summary {\n",
       "    position: relative;\n",
       "  }\n",
       "</style>\n",
       "<div id=\"altair-viz-90fdf9aa27c144fe9414036e1d2b8d00\"></div>\n",
       "<script type=\"text/javascript\">\n",
       "  var VEGA_DEBUG = (typeof VEGA_DEBUG == \"undefined\") ? {} : VEGA_DEBUG;\n",
       "  (function(spec, embedOpt){\n",
       "    let outputDiv = document.currentScript.previousElementSibling;\n",
       "    if (outputDiv.id !== \"altair-viz-90fdf9aa27c144fe9414036e1d2b8d00\") {\n",
       "      outputDiv = document.getElementById(\"altair-viz-90fdf9aa27c144fe9414036e1d2b8d00\");\n",
       "    }\n",
       "    const paths = {\n",
       "      \"vega\": \"https://cdn.jsdelivr.net/npm/vega@5?noext\",\n",
       "      \"vega-lib\": \"https://cdn.jsdelivr.net/npm/vega-lib?noext\",\n",
       "      \"vega-lite\": \"https://cdn.jsdelivr.net/npm/vega-lite@5.16.3?noext\",\n",
       "      \"vega-embed\": \"https://cdn.jsdelivr.net/npm/vega-embed@6?noext\",\n",
       "    };\n",
       "\n",
       "    function maybeLoadScript(lib, version) {\n",
       "      var key = `${lib.replace(\"-\", \"\")}_version`;\n",
       "      return (VEGA_DEBUG[key] == version) ?\n",
       "        Promise.resolve(paths[lib]) :\n",
       "        new Promise(function(resolve, reject) {\n",
       "          var s = document.createElement('script');\n",
       "          document.getElementsByTagName(\"head\")[0].appendChild(s);\n",
       "          s.async = true;\n",
       "          s.onload = () => {\n",
       "            VEGA_DEBUG[key] = version;\n",
       "            return resolve(paths[lib]);\n",
       "          };\n",
       "          s.onerror = () => reject(`Error loading script: ${paths[lib]}`);\n",
       "          s.src = paths[lib];\n",
       "        });\n",
       "    }\n",
       "\n",
       "    function showError(err) {\n",
       "      outputDiv.innerHTML = `<div class=\"error\" style=\"color:red;\">${err}</div>`;\n",
       "      throw err;\n",
       "    }\n",
       "\n",
       "    function displayChart(vegaEmbed) {\n",
       "      vegaEmbed(outputDiv, spec, embedOpt)\n",
       "        .catch(err => showError(`Javascript Error: ${err.message}<br>This usually means there's a typo in your chart specification. See the javascript console for the full traceback.`));\n",
       "    }\n",
       "\n",
       "    if(typeof define === \"function\" && define.amd) {\n",
       "      requirejs.config({paths});\n",
       "      require([\"vega-embed\"], displayChart, err => showError(`Error loading script: ${err.message}`));\n",
       "    } else {\n",
       "      maybeLoadScript(\"vega\", \"5\")\n",
       "        .then(() => maybeLoadScript(\"vega-lite\", \"5.16.3\"))\n",
       "        .then(() => maybeLoadScript(\"vega-embed\", \"6\"))\n",
       "        .catch(showError)\n",
       "        .then(() => displayChart(vegaEmbed));\n",
       "    }\n",
       "  })({\"config\": {\"view\": {\"continuousWidth\": 300, \"continuousHeight\": 300}}, \"data\": {\"name\": \"data-dab6cc29bd9008a65d1354056dbbca18\"}, \"mark\": {\"type\": \"bar\"}, \"encoding\": {\"color\": {\"field\": \"LOCATION\", \"type\": \"nominal\"}, \"tooltip\": [{\"field\": \"LOCATION\", \"type\": \"nominal\"}, {\"field\": \"Value\", \"title\": \"Divario (\\u20ac)\", \"type\": \"quantitative\"}], \"x\": {\"axis\": {\"labelAngle\": -45}, \"field\": \"LOCATION\", \"title\": \"Nazione\", \"type\": \"nominal\"}, \"y\": {\"field\": \"Value\", \"title\": \"Divario (\\u20ac)\", \"type\": \"quantitative\"}}, \"height\": 500, \"params\": [{\"name\": \"param_1\", \"select\": {\"type\": \"interval\", \"encodings\": [\"x\", \"y\"]}, \"bind\": \"scales\"}], \"title\": \"Divario salariale medio tra i sessi per paese\", \"width\": 800, \"$schema\": \"https://vega.github.io/schema/vega-lite/v5.16.3.json\", \"datasets\": {\"data-dab6cc29bd9008a65d1354056dbbca18\": [{\"LOCATION\": \"ARG\", \"Value\": 8.90277777775}, {\"LOCATION\": \"AUS\", \"Value\": 11.927759838}, {\"LOCATION\": \"AUT\", \"Value\": 13.35679496525}, {\"LOCATION\": \"BEL\", \"Value\": 2.7933757592}, {\"LOCATION\": \"BGR\", \"Value\": 2.84922433336004}, {\"LOCATION\": \"BRA\", \"Value\": 8.757070707119999}, {\"LOCATION\": \"CAN\", \"Value\": 17.694422013}, {\"LOCATION\": \"CHE\", \"Value\": 14.4490971255}, {\"LOCATION\": \"CHL\", \"Value\": 9.75767504415}, {\"LOCATION\": \"COL\", \"Value\": 5.6355296488999995}, {\"LOCATION\": \"CRI\", \"Value\": 4.9326224299}, {\"LOCATION\": \"CYP\", \"Value\": 16.385513176262624}, {\"LOCATION\": \"CZE\", \"Value\": 13.4618137346}, {\"LOCATION\": \"DEU\", \"Value\": 14.323393339336075}, {\"LOCATION\": \"DNK\", \"Value\": 5.1232260017}, {\"LOCATION\": \"ESP\", \"Value\": 8.269677830433332}, {\"LOCATION\": \"EST\", \"Value\": 21.471126828750002}, {\"LOCATION\": \"EU27\", \"Value\": 10.616656991247474}, {\"LOCATION\": \"FIN\", \"Value\": 16.83360631025}, {\"LOCATION\": \"FRA\", \"Value\": 11.805630150999999}, {\"LOCATION\": \"GBR\", \"Value\": 14.6087258984}, {\"LOCATION\": \"GRC\", \"Value\": 6.67613636363221}, {\"LOCATION\": \"HRV\", \"Value\": 7.544634208138477}, {\"LOCATION\": \"HUN\", \"Value\": 10.810879508174999}, {\"LOCATION\": \"IRL\", \"Value\": 7.67921663084823}, {\"LOCATION\": \"ISL\", \"Value\": 11.826143256583352}, {\"LOCATION\": \"ISR\", \"Value\": 23.4734773515}, {\"LOCATION\": \"ITA\", \"Value\": 5.426856856712482}, {\"LOCATION\": \"JPN\", \"Value\": 22.5995317804}, {\"LOCATION\": \"KOR\", \"Value\": 32.0758863212}, {\"LOCATION\": \"LTU\", \"Value\": 11.0274358334}, {\"LOCATION\": \"LVA\", \"Value\": 21.6779081835}, {\"LOCATION\": \"MEX\", \"Value\": 14.388888889}, {\"LOCATION\": \"MLT\", \"Value\": 11.09375}, {\"LOCATION\": \"NLD\", \"Value\": 13.1537578095}, {\"LOCATION\": \"NOR\", \"Value\": 4.67880760308}, {\"LOCATION\": \"NZL\", \"Value\": 6.97290528794}, {\"LOCATION\": \"OECD\", \"Value\": 12.37938199209935}, {\"LOCATION\": \"POL\", \"Value\": 10.09426204435}, {\"LOCATION\": \"PRT\", \"Value\": 11.75788812395175}, {\"LOCATION\": \"ROU\", \"Value\": 4.6028952339}, {\"LOCATION\": \"SVK\", \"Value\": 13.210992781600002}, {\"LOCATION\": \"SVN\", \"Value\": 8.1945369753}, {\"LOCATION\": \"SWE\", \"Value\": 7.3458472891}, {\"LOCATION\": \"TUR\", \"Value\": 9.980806142}, {\"LOCATION\": \"USA\", \"Value\": 17.7764726728}]}}, {\"mode\": \"vega-lite\"});\n",
       "</script>"
      ],
      "text/plain": [
       "alt.Chart(...)"
      ]
     },
     "execution_count": 3,
     "metadata": {},
     "output_type": "execute_result"
    }
   ],
   "source": [
    "df = pd.read_csv(\"data/genderEGW.csv\")\n",
    "\n",
    "# Calcola il gap facendo la media\n",
    "df_mean = df.groupby('LOCATION')['Value'].mean().reset_index()\n",
    "\n",
    "# Nazioni asse X - Divario asse Y\n",
    "chart = alt.Chart(df_mean).mark_bar().encode(\n",
    "    x=alt.X('LOCATION:N', title='Nazione', axis=alt.Axis(labelAngle=-45)),\n",
    "    y=alt.Y('Value', title='Divario (€)'),\n",
    "    color='LOCATION',\n",
    "    tooltip=['LOCATION:N', alt.Tooltip('Value:Q', title='Divario (€)')] \n",
    ").properties(\n",
    "    title='Divario salariale medio tra i sessi per paese',\n",
    "    width=800,\n",
    "    height=500\n",
    ").interactive()\n",
    "\n",
    "# Mostra il grafico\n",
    "chart"
   ]
  }
 ],
 "metadata": {
  "kernelspec": {
   "display_name": "Python 3",
   "language": "python",
   "name": "python3"
  },
  "language_info": {
   "codemirror_mode": {
    "name": "ipython",
    "version": 3
   },
   "file_extension": ".py",
   "mimetype": "text/x-python",
   "name": "python",
   "nbconvert_exporter": "python",
   "pygments_lexer": "ipython3",
   "version": "3.12.1"
  }
 },
 "nbformat": 4,
 "nbformat_minor": 2
}
